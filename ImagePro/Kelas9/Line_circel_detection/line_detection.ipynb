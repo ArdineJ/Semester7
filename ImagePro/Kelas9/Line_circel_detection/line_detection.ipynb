{
 "cells": [
  {
   "cell_type": "code",
   "execution_count": null,
   "id": "d12c1fea-55a8-452a-8990-55ee555ef631",
   "metadata": {},
   "outputs": [],
   "source": [
    "import cv2\n",
    "import numpy as np\n",
    "\n",
    "# Load the image\n",
    "img = cv2.imread('FR1_crop.jpg')\n",
    "\n",
    "# Convert to grayscale\n",
    "gray = cv2.cvtColor(img, cv2.COLOR_BGR2GRAY)\n",
    "\n",
    "# Edge detection\n",
    "edges = cv2.Canny(gray, 50, 150, apertureSize=3)\n",
    "\n",
    "# Hough Line Transform\n",
    "lines = cv2.HoughLinesP(edges, 1, np.pi/180, 100, minLineLength=100, maxLineGap=10)\n",
    "\n",
    "# Draw lines on the image\n",
    "for line in lines:\n",
    "    x1, y1, x2, y2 = line[0]\n",
    "    cv2.line(img, (x1, y1), (x2, y2), (0, 0, 255), 2)\n",
    "\n",
    "# Display the result\n",
    "cv2.imshow('Hough Lines', img)\n",
    "cv2.waitKey(0)\n",
    "cv2.destroyAllWindows()"
   ]
  },
  {
   "cell_type": "code",
   "execution_count": null,
   "id": "7fe7cd29-e4c7-4158-9b2a-21c1189c4868",
   "metadata": {},
   "outputs": [],
   "source": [
    "import cv2\n",
    "import numpy as np\n",
    "\n",
    "# Load the image\n",
    "img = cv2.imread('FR1_crop.jpg', cv2.IMREAD_GRAYSCALE)\n",
    "\n",
    "# Define the kernel\n",
    "kernel_horizontal = np.array([[-1, -1, -1],\n",
    "                             [ 0,  0,  0],\n",
    "                             [ 1,  1,  1]])\n",
    "\n",
    "kernel_vertical = np.array([[-1, 0, 1],\n",
    "                             [ -1,  0,  1],\n",
    "                             [ -1,  0,  1]])\n",
    "\n",
    "# Apply convolution\n",
    "img_filtered = cv2.filter2D(img, -1, kernel_vertical)\n",
    "\n",
    "# Threshold the result\n",
    "thresh = cv2.threshold(img_filtered, 50, 255, cv2.THRESH_BINARY)[1]\n",
    "\n",
    "# Display the result\n",
    "cv2.imshow('Original Image', img)\n",
    "cv2.imshow('Filtered Image', img_filtered)\n",
    "cv2.imshow('Thresholded Image', thresh)\n",
    "cv2.waitKey(0)\n",
    "cv2.destroyAllWindows()"
   ]
  },
  {
   "cell_type": "code",
   "execution_count": null,
   "id": "1842105a-d2a3-426b-ba8d-1da631c5b931",
   "metadata": {},
   "outputs": [],
   "source": []
  },
  {
   "cell_type": "code",
   "execution_count": null,
   "id": "c26544b6-520c-4611-910c-4df123aa9f62",
   "metadata": {},
   "outputs": [],
   "source": []
  },
  {
   "cell_type": "code",
   "execution_count": null,
   "id": "f3b499be-5931-43d2-bedd-4b3af007da88",
   "metadata": {},
   "outputs": [],
   "source": []
  }
 ],
 "metadata": {
  "kernelspec": {
   "display_name": "Python 3 (ipykernel)",
   "language": "python",
   "name": "python3"
  },
  "language_info": {
   "codemirror_mode": {
    "name": "ipython",
    "version": 3
   },
   "file_extension": ".py",
   "mimetype": "text/x-python",
   "name": "python",
   "nbconvert_exporter": "python",
   "pygments_lexer": "ipython3",
   "version": "3.11.5"
  }
 },
 "nbformat": 4,
 "nbformat_minor": 5
}
